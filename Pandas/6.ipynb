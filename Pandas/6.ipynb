{
 "cells": [
  {
   "cell_type": "code",
   "execution_count": null,
   "id": "4c8a5daa",
   "metadata": {},
   "outputs": [],
   "source": [
    "6) Given a data frame, sort it by multiple columns."
   ]
  },
  {
   "cell_type": "code",
   "execution_count": 27,
   "id": "82b9cffb",
   "metadata": {},
   "outputs": [],
   "source": [
    "import pandas as pd"
   ]
  },
  {
   "cell_type": "code",
   "execution_count": 30,
   "id": "97b30312",
   "metadata": {},
   "outputs": [
    {
     "name": "stdout",
     "output_type": "stream",
     "text": [
      "After sorting column ['x', 'y'] \n",
      "\n",
      "DataFrame is:\n",
      "   x  y\n",
      "0  5  4\n",
      "1  2  7\n",
      "2  1  1\n"
     ]
    }
   ],
   "source": [
    "df=pd.DataFrame(\n",
    "{\n",
    "    \"x\":[5,2,1],\n",
    "    \"y\":[4,7,1],\n",
    "}\n",
    ")\n",
    "col=[\"x\",\"y\"]\n",
    "df=df.sort_values(col,ascending=[False, True])\n",
    "print(\"After sorting column\",col,\"\\n\\nDataFrame is:\")\n",
    "print(df)"
   ]
  },
  {
   "cell_type": "code",
   "execution_count": null,
   "id": "2df2772c",
   "metadata": {},
   "outputs": [],
   "source": []
  },
  {
   "cell_type": "code",
   "execution_count": null,
   "id": "5399d5df",
   "metadata": {},
   "outputs": [],
   "source": []
  }
 ],
 "metadata": {
  "kernelspec": {
   "display_name": "Python 3",
   "language": "python",
   "name": "python3"
  },
  "language_info": {
   "codemirror_mode": {
    "name": "ipython",
    "version": 3
   },
   "file_extension": ".py",
   "mimetype": "text/x-python",
   "name": "python",
   "nbconvert_exporter": "python",
   "pygments_lexer": "ipython3",
   "version": "3.6.9"
  }
 },
 "nbformat": 4,
 "nbformat_minor": 5
}
