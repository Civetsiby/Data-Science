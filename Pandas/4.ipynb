{
 "cells": [
  {
   "cell_type": "code",
   "execution_count": null,
   "id": "48059d5f",
   "metadata": {},
   "outputs": [],
   "source": [
    "4) Given a 2D List, convert it into corresponding data frame and display it."
   ]
  },
  {
   "cell_type": "code",
   "execution_count": 27,
   "id": "5aba86fe",
   "metadata": {},
   "outputs": [],
   "source": [
    "import numpy as np"
   ]
  },
  {
   "cell_type": "code",
   "execution_count": 28,
   "id": "bbca1a23",
   "metadata": {},
   "outputs": [],
   "source": [
    "import pandas as pd"
   ]
  },
  {
   "cell_type": "code",
   "execution_count": 29,
   "id": "c32563a6",
   "metadata": {},
   "outputs": [
    {
     "name": "stdout",
     "output_type": "stream",
     "text": [
      "      Tag  number\n",
      "0   Civet      22\n",
      "1  Nithin      25\n",
      "2   Nelwa      19\n",
      "3    Ciya      20\n"
     ]
    }
   ],
   "source": [
    "lst = [['Civet',22], ['Nithin',25], ['Nelwa',19], ['Ciya',20]]\n",
    "df = pd.DataFrame(lst, columns =['Tag', 'number'])\n",
    "print(df )"
   ]
  },
  {
   "cell_type": "code",
   "execution_count": null,
   "id": "4d175da9",
   "metadata": {},
   "outputs": [],
   "source": []
  }
 ],
 "metadata": {
  "kernelspec": {
   "display_name": "Python 3",
   "language": "python",
   "name": "python3"
  },
  "language_info": {
   "codemirror_mode": {
    "name": "ipython",
    "version": 3
   },
   "file_extension": ".py",
   "mimetype": "text/x-python",
   "name": "python",
   "nbconvert_exporter": "python",
   "pygments_lexer": "ipython3",
   "version": "3.6.9"
  }
 },
 "nbformat": 4,
 "nbformat_minor": 5
}
