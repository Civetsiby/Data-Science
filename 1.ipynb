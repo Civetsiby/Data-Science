{
 "cells": [
  {
   "cell_type": "code",
   "execution_count": null,
   "id": "ee708853",
   "metadata": {},
   "outputs": [],
   "source": [
    "1) Write a python program to implement List-to-Series Conversion."
   ]
  },
  {
   "cell_type": "code",
   "execution_count": 14,
   "id": "183c43f9",
   "metadata": {},
   "outputs": [],
   "source": [
    "import numpy as np"
   ]
  },
  {
   "cell_type": "code",
   "execution_count": 21,
   "id": "a62762de",
   "metadata": {},
   "outputs": [],
   "source": [
    "import pandas as pd"
   ]
  },
  {
   "cell_type": "code",
   "execution_count": 22,
   "id": "123191d0",
   "metadata": {},
   "outputs": [
    {
     "name": "stdout",
     "output_type": "stream",
     "text": [
      "Original List:\n",
      "[1, 2, 4, 5, 7]\n",
      "After converting to  a Series:\n",
      "0    1\n",
      "1    2\n",
      "2    4\n",
      "3    5\n",
      "4    7\n",
      "dtype: int64\n"
     ]
    }
   ],
   "source": [
    "l=[1,2,4,5,7]\n",
    "print(\"Original List:\")\n",
    "print(l)\n",
    "print(\"After converting to  a Series:\")\n",
    "r=pd.Series(l)\n",
    "print(r)\n"
   ]
  },
  {
   "cell_type": "code",
   "execution_count": null,
   "id": "de4ed13f",
   "metadata": {},
   "outputs": [],
   "source": []
  }
 ],
 "metadata": {
  "kernelspec": {
   "display_name": "Python 3",
   "language": "python",
   "name": "python3"
  },
  "language_info": {
   "codemirror_mode": {
    "name": "ipython",
    "version": 3
   },
   "file_extension": ".py",
   "mimetype": "text/x-python",
   "name": "python",
   "nbconvert_exporter": "python",
   "pygments_lexer": "ipython3",
   "version": "3.6.9"
  }
 },
 "nbformat": 4,
 "nbformat_minor": 5
}
