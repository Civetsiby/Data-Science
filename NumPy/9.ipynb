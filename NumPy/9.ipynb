{
 "cells": [
  {
   "cell_type": "code",
   "execution_count": null,
   "id": "a64cc8d1",
   "metadata": {},
   "outputs": [],
   "source": [
    "9) Program to check whether two arrays are equal (element wise) or not."
   ]
  },
  {
   "cell_type": "code",
   "execution_count": 8,
   "id": "7c6a57ff",
   "metadata": {},
   "outputs": [
    {
     "name": "stdout",
     "output_type": "stream",
     "text": [
      "Original arrays:\n",
      "[ 5  1 23]\n",
      "[ 2  3 23]\n",
      "\n",
      " Test said two arrays ar equal(element wise) or not:?\n",
      "[False False  True]\n"
     ]
    }
   ],
   "source": [
    "\n",
    "import numpy as np\n",
    "nums1=np.array([5,1,23])\n",
    "nums2=np.array([2,3,23])\n",
    "print(\"Original arrays:\")\n",
    "print(nums1)\n",
    "print(nums2)\n",
    "print(\"\\n Test said two arrays ar equal(element wise) or not:?\")\n",
    "print(nums1 == nums2)\n"
   ]
  },
  {
   "cell_type": "code",
   "execution_count": null,
   "id": "38f26646",
   "metadata": {},
   "outputs": [],
   "source": []
  }
 ],
 "metadata": {
  "kernelspec": {
   "display_name": "Python 3",
   "language": "python",
   "name": "python3"
  },
  "language_info": {
   "codemirror_mode": {
    "name": "ipython",
    "version": 3
   },
   "file_extension": ".py",
   "mimetype": "text/x-python",
   "name": "python",
   "nbconvert_exporter": "python",
   "pygments_lexer": "ipython3",
   "version": "3.6.9"
  }
 },
 "nbformat": 4,
 "nbformat_minor": 5
}
