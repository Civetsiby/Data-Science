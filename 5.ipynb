{
 "cells": [
  {
   "cell_type": "code",
   "execution_count": null,
   "id": "1321ef44",
   "metadata": {},
   "outputs": [],
   "source": [
    "5) Program to create a vector with values from 0 to 20 and change the sign change the sign of\n",
    "the numbers in the range from 9 to 15."
   ]
  },
  {
   "cell_type": "code",
   "execution_count": 4,
   "id": "bddd6ceb",
   "metadata": {},
   "outputs": [
    {
     "name": "stdout",
     "output_type": "stream",
     "text": [
      "Original vector:\n",
      "[ 0  1  2  3  4  5  6  7  8  9 10 11 12 13 14 15 16 17 18 19 20]\n",
      "After changing the sign of the numbers in the range from 9 to 15:\n",
      "[  0   1   2   3   4   5   6   7   8  -9 -10 -11 -12 -13 -14 -15  16  17\n",
      "  18  19  20]\n"
     ]
    }
   ],
   "source": [
    "import numpy as np\n",
    "x = np.arange(21)\n",
    "print(\"Original vector:\")\n",
    "print(x)\n",
    "print(\"After changing the sign of the numbers in the range from 9 to 15:\")\n",
    "x[(x >= 9) & (x <= 15)] *= -1\n",
    "print(x)\n",
    "\n"
   ]
  },
  {
   "cell_type": "code",
   "execution_count": null,
   "id": "3ce16297",
   "metadata": {},
   "outputs": [],
   "source": []
  }
 ],
 "metadata": {
  "kernelspec": {
   "display_name": "Python 3",
   "language": "python",
   "name": "python3"
  },
  "language_info": {
   "codemirror_mode": {
    "name": "ipython",
    "version": 3
   },
   "file_extension": ".py",
   "mimetype": "text/x-python",
   "name": "python",
   "nbconvert_exporter": "python",
   "pygments_lexer": "ipython3",
   "version": "3.6.9"
  }
 },
 "nbformat": 4,
 "nbformat_minor": 5
}
