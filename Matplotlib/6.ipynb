{
 "cells": [
  {
   "cell_type": "code",
   "execution_count": null,
   "id": "0a525c69",
   "metadata": {},
   "outputs": [],
   "source": [
    "6) Write a Python program to create bar plot of scores by group and gender. Use multiple X\n",
    "values on the same chart for men and women.\n",
    "Sample Data:\n",
    "    Means (men) = (22, 30, 35, 35, 26)\n",
    "    Means (women) = (25, 32, 30, 35, 29)"
   ]
  },
  {
   "cell_type": "code",
   "execution_count": 14,
   "id": "9953edde",
   "metadata": {},
   "outputs": [],
   "source": [
    "import numpy as np"
   ]
  },
  {
   "cell_type": "code",
   "execution_count": 15,
   "id": "12e2d3c2",
   "metadata": {},
   "outputs": [],
   "source": [
    "import matplotlib.pyplot as plt"
   ]
  },
  {
   "cell_type": "code",
   "execution_count": 20,
   "id": "3dbbccc5",
   "metadata": {},
   "outputs": [
    {
     "data": {
      "image/png": "[encoded data removed]",
      "text/plain": [
       "<Figure size 432x288 with 1 Axes>"
      ]
     },
     "metadata": {
      "needs_background": "light"
     },
     "output_type": "display_data"
    }
   ],
   "source": [
    "a=np.array([22,30,35,35,26])\n",
    "b=np.array([25,32,30,35,29])\n",
    "w=0.40\n",
    "plt.bar(a-0.2,b,w,color=\"green\")\n",
    "plt.bar(a+0.2,b,w,color=\"red\")\n",
    "plt.legend([\"male\",\"female\"])\n",
    "plt.show()"
   ]
  },
  {
   "cell_type": "code",
   "execution_count": null,
   "id": "ef98fd38",
   "metadata": {},
   "outputs": [],
   "source": []
  }
 ],
 "metadata": {
  "kernelspec": {
   "display_name": "Python 3",
   "language": "python",
   "name": "python3"
  },
  "language_info": {
   "codemirror_mode": {
    "name": "ipython",
    "version": 3
   },
   "file_extension": ".py",
   "mimetype": "text/x-python",
   "name": "python",
   "nbconvert_exporter": "python",
   "pygments_lexer": "ipython3",
   "version": "3.6.9"
  }
 },
 "nbformat": 4,
 "nbformat_minor": 5
}
